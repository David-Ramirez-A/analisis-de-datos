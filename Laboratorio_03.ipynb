{
  "nbformat": 4,
  "nbformat_minor": 0,
  "metadata": {
    "colab": {
      "provenance": [],
      "authorship_tag": "ABX9TyNrf3j3LWLMB/+hG35Zdfqf",
      "include_colab_link": true
    },
    "kernelspec": {
      "name": "python3",
      "display_name": "Python 3"
    },
    "language_info": {
      "name": "python"
    }
  },
  "cells": [
    {
      "cell_type": "markdown",
      "metadata": {
        "id": "view-in-github",
        "colab_type": "text"
      },
      "source": [
        "<a href=\"https://colab.research.google.com/github/David-Ramirez-A/analisis-de-datos/blob/main/Laboratorio_03.ipynb\" target=\"_parent\"><img src=\"https://colab.research.google.com/assets/colab-badge.svg\" alt=\"Open In Colab\"/></a>"
      ]
    },
    {
      "cell_type": "code",
      "source": [
        "import pandas as pd\n",
        "data={'Country':['Costa Rica', 'India','Brazil'],\n",
        "      'Capital':['San José','New Dwlhi','Brasilia'],\n",
        "      'Population':[4500000,1303171035,207847528]}\n",
        "df = pd.DataFrame(data,columns=['Country','Capital','Population'])\n",
        "print(df)"
      ],
      "metadata": {
        "colab": {
          "base_uri": "https://localhost:8080/"
        },
        "id": "HMVNDhUoXUBL",
        "outputId": "dd5fefca-b3a9-4bb9-a3ae-f3e709b399dc"
      },
      "execution_count": null,
      "outputs": [
        {
          "output_type": "stream",
          "name": "stdout",
          "text": [
            "      Country    Capital  Population\n",
            "0  Costa Rica   San José     4500000\n",
            "1       India  New Dwlhi  1303171035\n",
            "2      Brazil   Brasilia   207847528\n"
          ]
        }
      ]
    },
    {
      "cell_type": "code",
      "source": [
        "print(\"Promedio de los elementos del vector\")\n",
        "suma=0\n",
        "media=0\n",
        "temp=[]\n",
        "print(\"Ingrese cantidad de temperaturas\")\n",
        "N=int(input())\n",
        "for i in range(N):\n",
        "    temperatura=float(input(\"Ingrese la temperatura\"))\n",
        "    temp.append(temperatura)\n",
        "    suma=suma+temp[i]\n",
        "media=suma/N\n",
        "print(media)"
      ],
      "metadata": {
        "colab": {
          "base_uri": "https://localhost:8080/"
        },
        "id": "FKjXv6h5XtuH",
        "outputId": "bad138e7-92eb-42d8-e1cc-3a9a1c4e4be2"
      },
      "execution_count": null,
      "outputs": [
        {
          "output_type": "stream",
          "name": "stdout",
          "text": [
            "Promedio de los elementos del vector\n",
            "Ingrese cantidad de temperaturas\n",
            "3\n",
            "Ingrese la temperatura3\n",
            "Ingrese la temperatura3\n",
            "Ingrese la temperatura3\n",
            "3.0\n"
          ]
        }
      ]
    },
    {
      "cell_type": "code",
      "source": [
        "from IPython.utils.path import target_update\n",
        "import pandas as pd\n",
        "\n",
        "mascota = pd.DataFrame(\n",
        "  data={'name':['Minino','Milo','Snoppy','Blanco','Littlepony'],\n",
        "      'type':['gato','perro','perro', 'perro','caballo']},\n",
        "  index=[71,42,11, 98,42]\n",
        ")\n",
        "\n",
        "visitas = pd.DataFrame(\n",
        "    data={\n",
        "        'pet_id': [42,31,71,42,98,42],\n",
        "        'Fecha': ['2019-03-15', '2019-03-15','2019-04-05','2019-04-12','2019-05-23','2019-5-28'],\n",
        "        'Costo':[2000,5000,1000,5000,6000,10000]\n",
        "    }\n",
        ")\n",
        "\n",
        "mascota.index.rename('pet_id', inplace=True)\n",
        "visitas.index.rename('visit_id',inplace=True)\n",
        "\n",
        "print(mascota.query('pet_id==71'))\n",
        "\n",
        "#print(visitas['costo'].sum())\n",
        "#print(visitas['costo'].min())\n",
        "#print(visitas['costo'].max())\n",
        "\n",
        "print(visitas)\n",
        "\n",
        "print(visitas.sort_values(by='Costo',ascending=False))\n"
      ],
      "metadata": {
        "colab": {
          "base_uri": "https://localhost:8080/"
        },
        "id": "AZrkwAyHcAD7",
        "outputId": "ff471637-53d5-458a-ecaa-086cee85071d"
      },
      "execution_count": null,
      "outputs": [
        {
          "output_type": "stream",
          "name": "stdout",
          "text": [
            "          name  type\n",
            "pet_id              \n",
            "71      Minino  gato\n",
            "          pet_id       Fecha  Costo\n",
            "visit_id                           \n",
            "0             42  2019-03-15   2000\n",
            "1             31  2019-03-15   5000\n",
            "2             71  2019-04-05   1000\n",
            "3             42  2019-04-12   5000\n",
            "4             98  2019-05-23   6000\n",
            "5             42   2019-5-28  10000\n",
            "          pet_id       Fecha  Costo\n",
            "visit_id                           \n",
            "5             42   2019-5-28  10000\n",
            "4             98  2019-05-23   6000\n",
            "1             31  2019-03-15   5000\n",
            "3             42  2019-04-12   5000\n",
            "0             42  2019-03-15   2000\n",
            "2             71  2019-04-05   1000\n"
          ]
        }
      ]
    },
    {
      "cell_type": "markdown",
      "source": [
        "Laboratorio"
      ],
      "metadata": {
        "id": "KGgWRRlLg5h3"
      }
    },
    {
      "cell_type": "code",
      "execution_count": null,
      "metadata": {
        "colab": {
          "base_uri": "https://localhost:8080/"
        },
        "id": "sH_QMEOWU6Id",
        "outputId": "1f0c7e98-f0eb-418b-e16e-e3b7765f331f"
      },
      "outputs": [
        {
          "output_type": "stream",
          "name": "stdout",
          "text": [
            "    Nombre  Edad    Ciudad Seccion\n",
            "0      Ana    23  San Jose       A\n",
            "1  Esteban    22   Heredia       B\n",
            "2     Juan    22   Cartago       A\n",
            "3    Karla    22     Limón       A\n",
            "4  Ernesto    21   Heredia       B\n",
            "Index positios of 22 in Dataframe : \n",
            "(0, 'Seccion')\n",
            "(2, 'Seccion')\n",
            "(3, 'Seccion')\n"
          ]
        }
      ],
      "source": [
        "import pandas as pd\n",
        "students = [('Ana', 23, 'San Jose', 'A'),\n",
        "            ('Esteban', 22, 'Heredia', 'B'),\n",
        "            ('Juan', 22, 'Cartago', 'A'),\n",
        "            ('Karla', 22, 'Limón','A'),\n",
        "            ('Ernesto', 21, 'Heredia', 'B')\n",
        "            ]\n",
        "\n",
        "df = pd.DataFrame(students, columns = ['Nombre','Edad','Ciudad','Seccion'])\n",
        "\n",
        "print(df)\n",
        "\n",
        "def getIndexes(deObj, value):\n",
        "  listOfPos = []\n",
        "  result = deObj.isin([value])\n",
        "  seriesObj = result.any()\n",
        "  columnNames = list(seriesObj[seriesObj == True].index)\n",
        "\n",
        "  for col in columnNames:\n",
        "    rows = list(result[col][result[col] == True].index)\n",
        "    for row in rows:\n",
        "      listOfPos.append((row,col))\n",
        "  return listOfPos\n",
        "\n",
        "listOfPositions = getIndexes(df,'A')\n",
        "\n",
        "print('Index positios of 22 in Dataframe : ')\n",
        "\n",
        "for i in range(len(listOfPositions)):\n",
        "  print(listOfPositions[i])\n"
      ]
    },
    {
      "cell_type": "markdown",
      "source": [
        "Búsqueda de películas con puntuación mayor a 7 y organizada de mayor a menor, y si contamos con la posibilidad de hacerlo"
      ],
      "metadata": {
        "id": "Qwqg1LpXmFVR"
      }
    }
  ]
}