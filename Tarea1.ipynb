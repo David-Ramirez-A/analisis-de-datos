{
  "cells": [
    {
      "cell_type": "markdown",
      "metadata": {
        "id": "view-in-github",
        "colab_type": "text"
      },
      "source": [
        "<a href=\"https://colab.research.google.com/github/David-Ramirez-A/analisis-de-datos/blob/main/Tarea1.ipynb\" target=\"_parent\"><img src=\"https://colab.research.google.com/assets/colab-badge.svg\" alt=\"Open In Colab\"/></a>"
      ]
    },
    {
      "cell_type": "markdown",
      "metadata": {
        "id": "xY5dq6zM8mOK"
      },
      "source": [
        "Tarea 1.\n",
        "Ciclo I, 2023.\n",
        "David Ramírez Arce"
      ]
    },
    {
      "cell_type": "code",
      "execution_count": null,
      "metadata": {
        "colab": {
          "base_uri": "https://localhost:8080/"
        },
        "id": "gNN4t0ww6vOg",
        "outputId": "e3b3eb17-9655-4b9f-acc3-fb53dbbee838"
      },
      "outputs": [
        {
          "name": "stdout",
          "output_type": "stream",
          "text": [
            "Ejercicio Bisiesto\n",
            "Ingrese el año: 2023\n",
            "El año no es Bisiesto\n"
          ]
        }
      ],
      "source": [
        "print(\"Ejercicio Bisiesto\")\n",
        "anio = int(input(\"Ingrese el año: \"))\n",
        "if(anio % 400 == 0) or (anio % 4 == 0) and (anio % 100 != 0):\n",
        "  print(\"El año es Bisiesto\")\n",
        "else:\n",
        "  print(\"El año no es Bisiesto\")"
      ]
    },
    {
      "cell_type": "markdown",
      "metadata": {
        "id": "P-CJ3nZKfLms"
      },
      "source": [
        "Ejercicio #2"
      ]
    },
    {
      "cell_type": "code",
      "execution_count": null,
      "metadata": {
        "colab": {
          "base_uri": "https://localhost:8080/"
        },
        "id": "UBzNZ4Irezf3",
        "outputId": "977ae8cd-7c31-4cae-ff98-89fb6571b732"
      },
      "outputs": [
        {
          "name": "stdout",
          "output_type": "stream",
          "text": [
            "Ingrese un numero: 3\n",
            "Marzo\n"
          ]
        }
      ],
      "source": [
        "switcher={1:\"Enero\",2:\"Febrero\",3:\"Marzo\",4:\"Abril\",5:\"Mayo\",6:\"Junio\",7:\"Julio\",8:\"Agosto\",9:\"Septiembre\",10:\"Octubre\",11:\"Noviembre\",12:\"Diciembre\"}\n",
        "argument = int(input(\"Ingrese un numero: \"))\n",
        "nameMes = switcher.get(argument,\"Mes inválido\")\n",
        "print(nameMes)"
      ]
    },
    {
      "cell_type": "markdown",
      "metadata": {
        "id": "Le4GirUUfQ32"
      },
      "source": [
        "Ejercicio #3"
      ]
    },
    {
      "cell_type": "code",
      "execution_count": null,
      "metadata": {
        "colab": {
          "base_uri": "https://localhost:8080/"
        },
        "id": "Wm4UhnS6fK1g",
        "outputId": "29f5fdd8-9445-4810-9141-18b1fb9fb59e"
      },
      "outputs": [
        {
          "name": "stdout",
          "output_type": "stream",
          "text": [
            "Introduce el capital, el interes, y el tiempo apropiados\n",
            "Capital: 1000\n",
            "Interes: 10\n",
            "Tiempo en Annios: 20\n",
            "Monto  1100.0 Colones\n",
            "Monto  1210.0 Colones\n",
            "Monto  1331.0 Colones\n",
            "Monto  1464.1000000000001 Colones\n",
            "Monto  1610.5100000000002 Colones\n",
            "Monto  1771.5610000000004 Colones\n",
            "Monto  1948.7171000000005 Colones\n",
            "Monto  2143.5888100000006 Colones\n",
            "Monto  2357.9476910000008 Colones\n",
            "Monto  2593.742460100001 Colones\n",
            "Monto  2853.1167061100014 Colones\n",
            "Monto  3138.4283767210018 Colones\n",
            "Monto  3452.271214393102 Colones\n",
            "Monto  3797.4983358324125 Colones\n",
            "Monto  4177.248169415654 Colones\n",
            "Monto  4594.97298635722 Colones\n",
            "Monto  5054.470284992943 Colones\n",
            "Monto  5559.917313492238 Colones\n",
            "Monto  6115.909044841462 Colones\n",
            "Monto  6727.499949325608 Colones\n"
          ]
        }
      ],
      "source": [
        "C = -1\n",
        "I = 0\n",
        "M = 0\n",
        "\n",
        "while(C < 0) or (I <= 0) or (I >= 100) or (M <= 0):\n",
        "  print(\"Introduce el capital, el interes, y el tiempo apropiados\")\n",
        "  C = int(input(\"Capital: \"))\n",
        "  I = int(input(\"Interes: \"))\n",
        "  M = int(input(\"Tiempo en Annios: \"))\n",
        "\n",
        "for i in range(M):\n",
        "  C=C*(1+I/100)\n",
        "  print(\"Monto \",C , \"Colones\")"
      ]
    },
    {
      "cell_type": "markdown",
      "metadata": {
        "id": "fQFv7yBqiy1z"
      },
      "source": [
        "Ejercicio #4"
      ]
    },
    {
      "cell_type": "code",
      "execution_count": null,
      "metadata": {
        "colab": {
          "background_save": true,
          "base_uri": "https://localhost:8080/"
        },
        "id": "q7_oSGlZ0sxc",
        "outputId": "aa81bb06-cbfc-4760-d35b-f5f3c7e411ab"
      },
      "outputs": [
        {
          "name": "stdout",
          "output_type": "stream",
          "text": [
            "Digite un numero\n",
            "6\n",
            "217\n"
          ]
        },
        {
          "ename": "KeyboardInterrupt",
          "evalue": "ignored",
          "output_type": "error",
          "traceback": [
            "\u001b[0;31m---------------------------------------------------------------------------\u001b[0m",
            "\u001b[0;31mKeyboardInterrupt\u001b[0m                         Traceback (most recent call last)",
            "\u001b[0;32m<ipython-input-10-3292a8690a08>\u001b[0m in \u001b[0;36m<module>\u001b[0;34m\u001b[0m\n\u001b[1;32m      8\u001b[0m       \u001b[0mSuma\u001b[0m \u001b[0;34m=\u001b[0m \u001b[0mSuma\u001b[0m \u001b[0;34m+\u001b[0m \u001b[0mi\u001b[0m\u001b[0;34m\u001b[0m\u001b[0;34m\u001b[0m\u001b[0m\n\u001b[1;32m      9\u001b[0m   \u001b[0mprint\u001b[0m\u001b[0;34m(\u001b[0m\u001b[0mSuma\u001b[0m\u001b[0;34m)\u001b[0m\u001b[0;34m\u001b[0m\u001b[0;34m\u001b[0m\u001b[0m\n\u001b[0;32m---> 10\u001b[0;31m   \u001b[0mnumero\u001b[0m \u001b[0;34m=\u001b[0m \u001b[0mint\u001b[0m\u001b[0;34m(\u001b[0m\u001b[0minput\u001b[0m\u001b[0;34m(\u001b[0m\u001b[0;34m\"Numero: \"\u001b[0m\u001b[0;34m)\u001b[0m\u001b[0;34m)\u001b[0m\u001b[0;34m\u001b[0m\u001b[0;34m\u001b[0m\u001b[0m\n\u001b[0m",
            "\u001b[0;32m/usr/local/lib/python3.9/dist-packages/ipykernel/kernelbase.py\u001b[0m in \u001b[0;36mraw_input\u001b[0;34m(self, prompt)\u001b[0m\n\u001b[1;32m    858\u001b[0m                 \u001b[0;34m\"raw_input was called, but this frontend does not support input requests.\"\u001b[0m\u001b[0;34m\u001b[0m\u001b[0;34m\u001b[0m\u001b[0m\n\u001b[1;32m    859\u001b[0m             )\n\u001b[0;32m--> 860\u001b[0;31m         return self._input_request(str(prompt),\n\u001b[0m\u001b[1;32m    861\u001b[0m             \u001b[0mself\u001b[0m\u001b[0;34m.\u001b[0m\u001b[0m_parent_ident\u001b[0m\u001b[0;34m,\u001b[0m\u001b[0;34m\u001b[0m\u001b[0;34m\u001b[0m\u001b[0m\n\u001b[1;32m    862\u001b[0m             \u001b[0mself\u001b[0m\u001b[0;34m.\u001b[0m\u001b[0m_parent_header\u001b[0m\u001b[0;34m,\u001b[0m\u001b[0;34m\u001b[0m\u001b[0;34m\u001b[0m\u001b[0m\n",
            "\u001b[0;32m/usr/local/lib/python3.9/dist-packages/ipykernel/kernelbase.py\u001b[0m in \u001b[0;36m_input_request\u001b[0;34m(self, prompt, ident, parent, password)\u001b[0m\n\u001b[1;32m    902\u001b[0m             \u001b[0;32mexcept\u001b[0m \u001b[0mKeyboardInterrupt\u001b[0m\u001b[0;34m:\u001b[0m\u001b[0;34m\u001b[0m\u001b[0;34m\u001b[0m\u001b[0m\n\u001b[1;32m    903\u001b[0m                 \u001b[0;31m# re-raise KeyboardInterrupt, to truncate traceback\u001b[0m\u001b[0;34m\u001b[0m\u001b[0;34m\u001b[0m\u001b[0m\n\u001b[0;32m--> 904\u001b[0;31m                 \u001b[0;32mraise\u001b[0m \u001b[0mKeyboardInterrupt\u001b[0m\u001b[0;34m(\u001b[0m\u001b[0;34m\"Interrupted by user\"\u001b[0m\u001b[0;34m)\u001b[0m \u001b[0;32mfrom\u001b[0m \u001b[0;32mNone\u001b[0m\u001b[0;34m\u001b[0m\u001b[0;34m\u001b[0m\u001b[0m\n\u001b[0m\u001b[1;32m    905\u001b[0m             \u001b[0;32mexcept\u001b[0m \u001b[0mException\u001b[0m \u001b[0;32mas\u001b[0m \u001b[0me\u001b[0m\u001b[0;34m:\u001b[0m\u001b[0;34m\u001b[0m\u001b[0;34m\u001b[0m\u001b[0m\n\u001b[1;32m    906\u001b[0m                 \u001b[0mself\u001b[0m\u001b[0;34m.\u001b[0m\u001b[0mlog\u001b[0m\u001b[0;34m.\u001b[0m\u001b[0mwarning\u001b[0m\u001b[0;34m(\u001b[0m\u001b[0;34m\"Invalid Message:\"\u001b[0m\u001b[0;34m,\u001b[0m \u001b[0mexc_info\u001b[0m\u001b[0;34m=\u001b[0m\u001b[0;32mTrue\u001b[0m\u001b[0;34m)\u001b[0m\u001b[0;34m\u001b[0m\u001b[0;34m\u001b[0m\u001b[0m\n",
            "\u001b[0;31mKeyboardInterrupt\u001b[0m: Interrupted by user"
          ]
        }
      ],
      "source": [
        "print(\"Digite un numero\")\n",
        "numero = int(input(\"Numero: \"))\n",
        "\n",
        "while numero > 0:\n",
        "  Suma = 0\n",
        "  for i in range(1,numero+1):\n",
        "    if(numero % i == 0):\n",
        "      Suma = Suma + i\n",
        "  print(Suma)   \n",
        "  numero = int(input(\"Numero: \")) "
      ]
    }
  ],
  "metadata": {
    "colab": {
      "provenance": [],
      "authorship_tag": "ABX9TyP8FcxrkQ9l9ddT0aFGVwN+",
      "include_colab_link": true
    },
    "kernelspec": {
      "display_name": "Python 3",
      "name": "python3"
    },
    "language_info": {
      "name": "python"
    }
  },
  "nbformat": 4,
  "nbformat_minor": 0
}