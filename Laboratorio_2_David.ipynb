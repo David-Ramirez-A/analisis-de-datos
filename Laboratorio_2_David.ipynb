{
  "nbformat": 4,
  "nbformat_minor": 0,
  "metadata": {
    "colab": {
      "provenance": [],
      "authorship_tag": "ABX9TyPl9lBY9+QErLcsEn3zSLQS",
      "include_colab_link": true
    },
    "kernelspec": {
      "name": "python3",
      "display_name": "Python 3"
    },
    "language_info": {
      "name": "python"
    }
  },
  "cells": [
    {
      "cell_type": "markdown",
      "metadata": {
        "id": "view-in-github",
        "colab_type": "text"
      },
      "source": [
        "<a href=\"https://colab.research.google.com/github/David-Ramirez-A/analisis-de-datos/blob/main/Laboratorio_2_David.ipynb\" target=\"_parent\"><img src=\"https://colab.research.google.com/assets/colab-badge.svg\" alt=\"Open In Colab\"/></a>"
      ]
    },
    {
      "cell_type": "code",
      "execution_count": null,
      "metadata": {
        "colab": {
          "base_uri": "https://localhost:8080/"
        },
        "id": "GfXV4-pb27MD",
        "outputId": "5024cdf8-db46-450d-d5e7-eb027f2b333c"
      },
      "outputs": [
        {
          "output_type": "stream",
          "name": "stdout",
          "text": [
            "---------------------------------------------\n",
            "Ejemplo2: Imprimir el menor de dos numeros.\n",
            "---------------------------------------------\n",
            "Ingrese 2 numeros: \n",
            "Primer Número: 5\n",
            "Segundo Número: 7\n",
            "\n",
            "Salida\n",
            "---------------------------------------------\n",
            "El menor es 5\n"
          ]
        }
      ],
      "source": [
        "print(\"---------------------------------------------\")\n",
        "print(\"Ejemplo2: Imprimir el menor de dos numeros.\")\n",
        "print(\"---------------------------------------------\")\n",
        "\n",
        "print(\"Ingrese 2 numeros: \")\n",
        "x = int(input(\"Primer Número: \"))\n",
        "y = int(input(\"Segundo Número: \"))\n",
        "print(\"\\nSalida\")\n",
        "\n",
        "print(\"---------------------------------------------\")\n",
        "if x > y:\n",
        "  print(\"El menor es:\",y)\n",
        "else:\n",
        "  print(\"El menor es\",x)"
      ]
    },
    {
      "cell_type": "code",
      "source": [
        "switcher={1:\"Enero\",2:\"Febrero\",3:\"Marzo\",4:\"Abril\",5:\"Mayo\",6:\"Junio\",7:\"Julio\",8:\"Agosto\",9:\"Septiembre\",10:\"Octubre\",11:\"Noviembre\",12:\"Diciembre\"}\n",
        "argument = int(input(\"Ingrese un numero: \"))\n",
        "nameMes = switcher.get(argument,\"Mes inválido\")\n",
        "print(nameMes)"
      ],
      "metadata": {
        "colab": {
          "base_uri": "https://localhost:8080/"
        },
        "id": "T4F2d8Yg65_A",
        "outputId": "43ab40c2-e338-42d4-a009-7965c01a6a0e"
      },
      "execution_count": null,
      "outputs": [
        {
          "output_type": "stream",
          "name": "stdout",
          "text": [
            "Ingrese un numero: 3\n",
            "Marzo\n"
          ]
        }
      ]
    }
  ]
}